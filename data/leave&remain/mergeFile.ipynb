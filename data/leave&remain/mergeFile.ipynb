{
 "cells": [
  {
   "cell_type": "code",
   "execution_count": 1,
   "metadata": {
    "collapsed": true
   },
   "outputs": [],
   "source": [
    "import pandas as pd\n",
    "import numpy as np"
   ]
  },
  {
   "cell_type": "code",
   "execution_count": 2,
   "metadata": {
    "collapsed": false
   },
   "outputs": [
    {
     "name": "stdout",
     "output_type": "stream",
     "text": [
      "TweetsApril_leave.csv      TweetsMay_leave.csv\r\n",
      "TweetsApril_remain.csv     TweetsMay_remain.csv\r\n",
      "TweetsAugust_leave.csv     TweetsSeptember_leave.csv\r\n",
      "TweetsAugust_remain.csv    TweetsSeptember_remain.csv\r\n",
      "TweetsJuly_leave.csv       leave.csv\r\n",
      "TweetsJuly_remain.csv      mergeFile.ipynb\r\n",
      "TweetsJune_leave.csv       remain.csv\r\n",
      "TweetsJune_remain.csv      test.csv\r\n",
      "TweetsMarch_leave.csv      train.csv\r\n",
      "TweetsMarch_remain.csv\r\n"
     ]
    }
   ],
   "source": [
    "!ls"
   ]
  },
  {
   "cell_type": "code",
   "execution_count": 3,
   "metadata": {
    "collapsed": true
   },
   "outputs": [],
   "source": [
    "month = ['April', 'May', 'June', 'July', 'August', 'September']"
   ]
  },
  {
   "cell_type": "code",
   "execution_count": 4,
   "metadata": {
    "collapsed": true
   },
   "outputs": [],
   "source": [
    "df_leave = pd.read_csv('TweetsMarch_leave.csv')\n",
    "df_remain = pd.read_csv('TweetsMarch_remain.csv')"
   ]
  },
  {
   "cell_type": "code",
   "execution_count": 5,
   "metadata": {
    "collapsed": false
   },
   "outputs": [],
   "source": [
    "for m in month:\n",
    "    df_leave = df_leave.append(pd.read_csv('Tweets'+m+'_leave.csv'), ignore_index=True)\n",
    "    df_remain = df_remain.append(pd.read_csv('Tweets'+m+'_remain.csv'), ignore_index=True)"
   ]
  },
  {
   "cell_type": "code",
   "execution_count": 6,
   "metadata": {
    "collapsed": false
   },
   "outputs": [],
   "source": [
    "df_leave.drop('Unnamed: 0', axis=1, inplace=True)\n",
    "df_remain.drop('Unnamed: 0', axis=1, inplace=True)"
   ]
  },
  {
   "cell_type": "code",
   "execution_count": 9,
   "metadata": {
    "collapsed": true
   },
   "outputs": [],
   "source": [
    "df_leave.to_csv('leave.csv')\n",
    "df_remain.to_csv('remain.csv')"
   ]
  },
  {
   "cell_type": "code",
   "execution_count": 7,
   "metadata": {
    "collapsed": false
   },
   "outputs": [],
   "source": [
    "# df_leave['label'] = np.zeros(len(df_leave), dtype=np.int32)\n",
    "# df_remain['label'] = np.ones(len(df_remain), dtype=np.int32)\n",
    "df_total = pd.concat([df_leave, df_remain], ignore_index=True)"
   ]
  },
  {
   "cell_type": "code",
   "execution_count": 8,
   "metadata": {
    "collapsed": false
   },
   "outputs": [],
   "source": [
    "df_total = df_total.iloc[np.random.permutation(len(df_total))]"
   ]
  },
  {
   "cell_type": "code",
   "execution_count": 9,
   "metadata": {
    "collapsed": false
   },
   "outputs": [],
   "source": [
    "df_total.index = np.sort(df_total.index.values)"
   ]
  },
  {
   "cell_type": "code",
   "execution_count": 8,
   "metadata": {
    "collapsed": true
   },
   "outputs": [],
   "source": [
    "df_total.to_csv('total.csv')"
   ]
  },
  {
   "cell_type": "code",
   "execution_count": 11,
   "metadata": {
    "collapsed": true
   },
   "outputs": [],
   "source": [
    "train = int(0.6 * len(df_total))\n",
    "# test = 0.4 * len(df_total)"
   ]
  },
  {
   "cell_type": "code",
   "execution_count": 12,
   "metadata": {
    "collapsed": false
   },
   "outputs": [],
   "source": [
    "df_total.iloc[range(train)].to_csv('train.csv')"
   ]
  },
  {
   "cell_type": "code",
   "execution_count": 13,
   "metadata": {
    "collapsed": true
   },
   "outputs": [],
   "source": [
    "df_total.iloc[range(train, len(df_total))].to_csv('test.csv')"
   ]
  }
 ],
 "metadata": {
  "anaconda-cloud": {},
  "kernelspec": {
   "display_name": "Python [conda env:cs505]",
   "language": "python",
   "name": "conda-env-cs505-py"
  },
  "language_info": {
   "codemirror_mode": {
    "name": "ipython",
    "version": 3
   },
   "file_extension": ".py",
   "mimetype": "text/x-python",
   "name": "python",
   "nbconvert_exporter": "python",
   "pygments_lexer": "ipython3",
   "version": "3.5.2"
  }
 },
 "nbformat": 4,
 "nbformat_minor": 1
}
